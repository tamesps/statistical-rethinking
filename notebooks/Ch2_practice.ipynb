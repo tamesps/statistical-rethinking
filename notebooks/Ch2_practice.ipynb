{
 "cells": [
  {
   "cell_type": "markdown",
   "id": "d7285541-374d-47b5-aa10-f1a618d573b2",
   "metadata": {},
   "source": [
    "### Practice"
   ]
  },
  {
   "cell_type": "code",
   "execution_count": 2,
   "id": "b0935893-0b34-4dac-a1a4-57b7279628ec",
   "metadata": {},
   "outputs": [],
   "source": [
    "import numpy as np"
   ]
  },
  {
   "cell_type": "markdown",
   "id": "b6d187fd-9e50-4061-b33e-f960c5964e96",
   "metadata": {},
   "source": [
    "**2M4.** Suppose you have a deck with only three cards. Each card has two sides, and each side is either black or white. One card has two black sides. The second card has one black and one white side. The third card has two white sides. Now suppose all three cards are placed in a bag and shuffled. Someone reaches into the bag and pulls out a card and places it flat on a table. A black side is shown facing up, but you don’t know the color of the side facing down. Show that the probability that the other side is also black is 2/3. Use the counting method (Section 2 of the chapter) to approach this problem. This means counting up the ways that each card could produce the observed data (a black side facing up on the table)."
   ]
  },
  {
   "cell_type": "code",
   "execution_count": 8,
   "id": "ab7d13e4-a8d9-4c6f-b7bd-5f82995b4804",
   "metadata": {},
   "outputs": [
    {
     "data": {
      "text/plain": [
       "0.6666666666666666"
      ]
     },
     "execution_count": 8,
     "metadata": {},
     "output_type": "execute_result"
    }
   ],
   "source": [
    "#ways of black side facing up \n",
    "BB = 2\n",
    "BW = 1\n",
    "WW = 0\n",
    "\n",
    "sum_of_ways = BB + BW + WW\n",
    "ways = BB\n",
    " \n",
    "ways/sum_of_ways"
   ]
  },
  {
   "cell_type": "markdown",
   "id": "85ff760f-5cae-4f33-884c-703044d827dc",
   "metadata": {},
   "source": []
  },
  {
   "cell_type": "markdown",
   "id": "2c27c6a9-53ee-4415-8302-1d30964a008e",
   "metadata": {},
   "source": [
    "**2M5.** Now suppose there are four cards: B/B, B/W, W/W, and another B/B. Again suppose a card is drawn from the bag and a black side appears face up. Again calculate the probability that the other side is black."
   ]
  },
  {
   "cell_type": "code",
   "execution_count": 10,
   "id": "0b731826-f1cf-4589-a9de-0608128617dd",
   "metadata": {},
   "outputs": [
    {
     "data": {
      "text/plain": [
       "0.8"
      ]
     },
     "execution_count": 10,
     "metadata": {},
     "output_type": "execute_result"
    }
   ],
   "source": [
    "#ways of black side facing up \n",
    "BB = 4\n",
    "BW = 1\n",
    "WW = 0\n",
    "\n",
    "sum_of_ways = BB + BW + WW\n",
    "ways = BB\n",
    " \n",
    "ways/sum_of_ways"
   ]
  },
  {
   "cell_type": "markdown",
   "id": "658e25da-f762-4e60-bc5e-64d3e851e07d",
   "metadata": {},
   "source": []
  },
  {
   "cell_type": "markdown",
   "id": "2b5e8aa2-e07f-4d4c-9175-c91a7ecec0b0",
   "metadata": {},
   "source": [
    "**2M6.** Imagine that black ink isheavy,andsocardswithblacksidesareheavierthancardswithwhite sides. As a result, it’s less likely that a card with black sides is pulled from the bag. So again assume there are three cards: B/B, B/W, and W/W. After experimenting a number of times, you conclude that for every way to pull  the B/B card from the bag, there are 2 ways to pull the B/W card and 3 ways to pull the W/W card. Again suppose that a card is pulled and a black side appears face up. Show that the probability the other side is black is now 0.5. Use the counting method, as before."
   ]
  },
  {
   "cell_type": "code",
   "execution_count": 89,
   "id": "d9497c78-4164-4a46-9b48-32bbcc5fecfd",
   "metadata": {},
   "outputs": [
    {
     "data": {
      "text/plain": [
       "0.5"
      ]
     },
     "execution_count": 89,
     "metadata": {},
     "output_type": "execute_result"
    }
   ],
   "source": [
    "#ways of black side facing up \n",
    "BB = 2 * 1/6\n",
    "BW = 1 * 2/6\n",
    "WW = 0 * 3/6\n",
    "\n",
    "sum_of_ways = BB + BW + WW\n",
    "ways = BB\n",
    " \n",
    "ways/sum_of_ways"
   ]
  },
  {
   "cell_type": "markdown",
   "id": "b2eb2822-1007-4cc5-87e9-6077ccaa942e",
   "metadata": {},
   "source": []
  },
  {
   "cell_type": "markdown",
   "id": "3f31f57f-3a35-421d-ab10-3b8ad945b7cf",
   "metadata": {},
   "source": [
    "**2M7.** Assumeagaintheoriginalcardproblem,withasinglecardshowingablacksidefaceup.Before looking at the other side, we draw another card from the bag and lay it face up on the table. The face that is shown on the new card is white. Show that the probability that the first card, the one showing a black side, has black on its other side is now 0.75. Use the counting method, if you can. Hint: Treat this like the sequence of globe tosses, counting all the ways to see each observation, for each possible first card."
   ]
  },
  {
   "cell_type": "code",
   "execution_count": 121,
   "id": "10009d84-3f5e-4533-aff7-a380b125e268",
   "metadata": {},
   "outputs": [
    {
     "data": {
      "text/plain": [
       "0.75"
      ]
     },
     "execution_count": 121,
     "metadata": {},
     "output_type": "execute_result"
    }
   ],
   "source": [
    "#prob of the white side up belong to a WB\n",
    "BB = 0\n",
    "BW = 1\n",
    "WW = 2\n",
    "\n",
    "sum_of_ways = sum([BB, BW, WW])\n",
    "ways = WB\n",
    "\n",
    "prob_BW_turned = ways/sum_of_ways\n",
    "\n",
    "#prob of the black side up belong to a BB\n",
    "BB = 2\n",
    "BW = (1 - prob_BW_turned)\n",
    "WW = 0\n",
    "\n",
    "sum_of_ways = BB + BW + WW\n",
    "ways = BB\n",
    "\n",
    "round(BB/sum_of_ways,2)"
   ]
  },
  {
   "cell_type": "markdown",
   "id": "cf9d159f-0623-486a-951c-b7865c1797bc",
   "metadata": {},
   "source": []
  },
  {
   "cell_type": "markdown",
   "id": "9e52ad2a-f4a1-4c80-9586-1066ef663408",
   "metadata": {},
   "source": [
    "**2H1.** Suppose there are two species of panda bear. Both are equally common in the wild and live in the same places. They look exactly alike and eat the same food, and there is yet no genetic assay capable of telling them apart. They differ however in their family sizes. Species A gives birth to twins 10% of the time, otherwise birthing a single infant. Species B births twins 20% of the time, otherwise birthing singleton infants. Assume these numbers are known with certainty, from many years of field research.\n",
    "Now suppose you are managing a captive panda breeding program. You have a new female panda of unknown species, and she has just given birth to twins. What is the probability that her next birth will also be twins?"
   ]
  },
  {
   "cell_type": "markdown",
   "id": "87f0c47c-0733-459a-8b63-c75120d9740e",
   "metadata": {},
   "source": [
    "$ P(twins_2 | twins_1) = \\frac {P(twins_1 \\bigcap twins_2 | A) * P(A) + P(twins_1 \\bigcap twins_2|B) * P(B)} {P(twins_1|A) * p(A) + P(twins_1|B) * B} $\n",
    "\n",
    "$ P(twins_2 | twins_1) = \\frac {(0.1 * 0.1) * 0.5 + (0.2*0.2) *  (0.5)} { 0.1 * 0.5 + 0.2 * 0.5} = 0.1667 $"
   ]
  },
  {
   "cell_type": "code",
   "execution_count": 56,
   "id": "262e317f-edb9-4006-9637-0a8c8db8f341",
   "metadata": {},
   "outputs": [
    {
     "data": {
      "text/plain": [
       "0.025000000000000005"
      ]
     },
     "execution_count": 56,
     "metadata": {},
     "output_type": "execute_result"
    }
   ],
   "source": [
    "(0.1*0.1 *0.5) + (0.2 *0.2 * 0.5)"
   ]
  },
  {
   "cell_type": "code",
   "execution_count": 53,
   "id": "55821e0b-ced1-4066-84fa-f6a971d4744d",
   "metadata": {},
   "outputs": [
    {
     "data": {
      "text/plain": [
       "0.16666666666666666"
      ]
     },
     "execution_count": 53,
     "metadata": {},
     "output_type": "execute_result"
    }
   ],
   "source": [
    "0.025/((0.1 * 0.5) + (0.2 *0.5))"
   ]
  },
  {
   "cell_type": "markdown",
   "id": "52344855-fea4-441a-b05b-db04e3c717b5",
   "metadata": {},
   "source": []
  },
  {
   "cell_type": "markdown",
   "id": "3e0d9942-9940-4e64-9bdd-e1ec826617cf",
   "metadata": {},
   "source": [
    "**2H2.** Recall all the facts from the problem above. Now compute the probability that the panda we have is from species A, assuming we have observed only the first birth and that it was twins.\n"
   ]
  },
  {
   "cell_type": "markdown",
   "id": "223f0d1b-ac8a-4490-94f5-650fa9ff6a9e",
   "metadata": {},
   "source": [
    "$ P(A | twins_1) = \\frac {P(twins_1| A) * P(A)} {P(twins_1|A) * p(A) + P(twins_1|B) * B} $\n",
    "\n",
    "\n",
    "\n",
    "$ P(A| twins_1) = \\frac {0.1 * 0.5} { 0.1 * 0.5 + 0.2 * 0.5} =0.33 $"
   ]
  },
  {
   "cell_type": "code",
   "execution_count": 60,
   "id": "f75bff0f-b30d-44a3-a3d4-1b6fe2e816b9",
   "metadata": {},
   "outputs": [
    {
     "data": {
      "text/plain": [
       "0.3333333333333333"
      ]
     },
     "execution_count": 60,
     "metadata": {},
     "output_type": "execute_result"
    }
   ],
   "source": [
    "(0.1 * 0.5)/((0.1 * 0.5) + (0.2 *0.5))"
   ]
  },
  {
   "cell_type": "markdown",
   "id": "fa54b570-4c03-4780-b7f3-0086b144ae1b",
   "metadata": {},
   "source": []
  },
  {
   "cell_type": "markdown",
   "id": "385d7afe-c6e7-4252-95a5-484b0eedfd7a",
   "metadata": {},
   "source": [
    "**2H3.** Continuing on from the previous problem,suppose the same panda mother has a second birth and that it is not twins, but a singleton infant. Compute the posterior probability that this panda is species A.\n",
    "\n"
   ]
  },
  {
   "cell_type": "markdown",
   "id": "9285fdc9-edda-4eab-8550-e79284abe2e8",
   "metadata": {},
   "source": [
    "$ P(A | twins_1, singleton) = \\frac {P(twins_1 \\bigcap singleton | A) * P(A)} {P(twins_1 \\bigcap singleton|A) * p(A) + P(twins_1 \\bigcap singleton|B) * B} $\n",
    "\n",
    "\n",
    "\n",
    "$ P(A| twins_1, singleton) = \\frac {(0.1 * 0.9) * 0.5} { (0.1 * 0.9) * 0.5 + (0.2 * 0.8) * 0.5} = 0.36$"
   ]
  },
  {
   "cell_type": "code",
   "execution_count": 64,
   "id": "ad2c332f-3bf8-45b7-bd4d-0c9e2e85cfdb",
   "metadata": {},
   "outputs": [
    {
     "data": {
      "text/plain": [
       "0.36"
      ]
     },
     "execution_count": 64,
     "metadata": {},
     "output_type": "execute_result"
    }
   ],
   "source": [
    "(0.1 * 0.9 * 0.5)/((0.1 *0.9 * 0.5) + (0.2 *0.8 *0.5))"
   ]
  },
  {
   "cell_type": "markdown",
   "id": "3f624b44-3247-4d79-87fb-1f99c42abe41",
   "metadata": {},
   "source": []
  },
  {
   "cell_type": "markdown",
   "id": "0f657fbf-9643-478d-897f-7780e00dc25b",
   "metadata": {},
   "source": [
    "**2H4.** A common boast of Bayesian statisticians is that Bayesian inferences makes it easy to use all of the data, even if the data are of different types.\n",
    "\n",
    "So suppose now that a veterinarian comes along who has a new genetic test that she claims can identify the species of our mother panda. But the test, like all tests, is imperfect. This is the information you have about the test:\n",
    "\n",
    "The probability it correctly identifies a species A panda is 0.8.\n",
    "The probability it correctly identifies a species B panda is 0.65.\n",
    "The vet administers the test to your panda and tells you that the test is positive for species A. First ignore your previous information from the births and compute the posterior probability that your panda is species A. Then redo your calculation, now using the birth data as well."
   ]
  },
  {
   "cell_type": "code",
   "execution_count": null,
   "id": "7d3649ab-48b6-4bb6-a9c3-a115f2f6dae8",
   "metadata": {},
   "outputs": [],
   "source": [
    "VP_A = 0.8\n",
    "FN_A = 0.2\n",
    "\n",
    "\n",
    "VP_B = 0.65\n",
    "FN_B = 0.35\n",
    "\n",
    "\n",
    "P_A = 0.36\n",
    "prev = 0.5"
   ]
  },
  {
   "cell_type": "code",
   "execution_count": 66,
   "id": "59deb662-b5db-4aaf-be5b-bfd521b279f7",
   "metadata": {},
   "outputs": [
    {
     "data": {
      "text/plain": [
       "0.64"
      ]
     },
     "execution_count": 66,
     "metadata": {},
     "output_type": "execute_result"
    }
   ],
   "source": [
    "1-0.36"
   ]
  },
  {
   "cell_type": "markdown",
   "id": "582d3075-c919-4ceb-992a-1dfbb48f3af6",
   "metadata": {},
   "source": [
    "$ P(A | positivo) = \\frac {P(positivo| A) * P(A)} {P(positivo|A) * P(A) + P(positivo|naoA) * p(naoA)} $\n",
    "\n",
    "\n",
    "\n",
    "$ P(A| positivo) = \\frac {0.8 * 0.36} { (0.8 * 0.36) + (0.65 * 0.64)} = 0.409 $"
   ]
  },
  {
   "cell_type": "code",
   "execution_count": 68,
   "id": "830f3397-1838-4526-8528-c6d2812c2eeb",
   "metadata": {},
   "outputs": [
    {
     "data": {
      "text/plain": [
       "0.40909090909090906"
      ]
     },
     "execution_count": 68,
     "metadata": {},
     "output_type": "execute_result"
    }
   ],
   "source": [
    "(0.8*0.36) / ((0.8*0.36)+ (0.65*0.64))"
   ]
  },
  {
   "cell_type": "markdown",
   "id": "41055961-258b-423b-8ac8-ab881ccff1c2",
   "metadata": {},
   "source": []
  }
 ],
 "metadata": {
  "kernelspec": {
   "display_name": "Python 3 (ipykernel)",
   "language": "python",
   "name": "python3"
  },
  "language_info": {
   "codemirror_mode": {
    "name": "ipython",
    "version": 3
   },
   "file_extension": ".py",
   "mimetype": "text/x-python",
   "name": "python",
   "nbconvert_exporter": "python",
   "pygments_lexer": "ipython3",
   "version": "3.9.5"
  }
 },
 "nbformat": 4,
 "nbformat_minor": 5
}
